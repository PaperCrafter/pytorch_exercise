{
 "cells": [
  {
   "cell_type": "code",
   "execution_count": 21,
   "metadata": {},
   "outputs": [],
   "source": [
    "import torch\n",
    "import torch.nn as nn\n",
    "from torch.autograd import Variable\n",
    "import numpy as np\n",
    "import matplotlib.pyplot as plt"
   ]
  },
  {
   "cell_type": "code",
   "execution_count": 22,
   "metadata": {},
   "outputs": [],
   "source": [
    "#optins\n",
    "input_size = 1\n",
    "output_size = 1\n",
    "learning_rate = 0.01\n",
    "training_epoch = 100"
   ]
  },
  {
   "cell_type": "code",
   "execution_count": 23,
   "metadata": {},
   "outputs": [],
   "source": [
    "#define input_data\n",
    "x_train = np.array([[3.2], [4.4], [5.5], [6.71], [6.93], [4.168],\n",
    "                    [9.779], [6.182], [7.59], [2.167], [7.042],\n",
    "                    [10.791], [5.313], [7.997], [3.1]], dtype=np.float32)\n",
    "\n",
    "y_train = np.array([[1.7], [2.76], [2.09], [3.19], [1.694], [1.573],\n",
    "                    [3.366], [2.596], [2.53], [1.221], [2.827],\n",
    "                    [3.465], [1.65], [2.904], [1.3]], dtype=np.float32)"
   ]
  },
  {
   "cell_type": "code",
   "execution_count": 29,
   "metadata": {},
   "outputs": [],
   "source": [
    "#define module\n",
    "class Model(nn.Module):\n",
    "    def __init__(self):\n",
    "        super(Model, self).__init__()\n",
    "        self.linear = torch.nn.Linear(input_size, output_size)\n",
    "    \n",
    "    def forward(self, x):\n",
    "        y_pred = self.linear(x)\n",
    "        return y_pred"
   ]
  },
  {
   "cell_type": "code",
   "execution_count": 30,
   "metadata": {},
   "outputs": [],
   "source": [
    "#generate model\n",
    "model = Model()"
   ]
  },
  {
   "cell_type": "code",
   "execution_count": 31,
   "metadata": {},
   "outputs": [],
   "source": [
    "criterion = nn.MSELoss()\n",
    "optimizer = torch.optim.SGD(model.parameters(), lr = learning_rate)"
   ]
  },
  {
   "cell_type": "code",
   "execution_count": 36,
   "metadata": {},
   "outputs": [
    {
     "name": "stdout",
     "output_type": "stream",
     "text": [
      "0 0.4075009524822235\n",
      "1 0.406277060508728\n",
      "2 0.40505945682525635\n",
      "3 0.4038480520248413\n",
      "4 0.4026429057121277\n",
      "4 0.4026429057121277\n",
      "5 0.40144386887550354\n",
      "6 0.4002510905265808\n",
      "7 0.3990643322467804\n",
      "8 0.3978837728500366\n",
      "9 0.39670923352241516\n",
      "9 0.39670923352241516\n",
      "10 0.39554062485694885\n",
      "11 0.3943781554698944\n",
      "12 0.39322155714035034\n",
      "13 0.39207085967063904\n",
      "14 0.39092621207237244\n",
      "14 0.39092621207237244\n",
      "15 0.3897871971130371\n",
      "16 0.3886541724205017\n",
      "17 0.3875269889831543\n",
      "18 0.3864055275917053\n",
      "19 0.3852898180484772\n",
      "19 0.3852898180484772\n",
      "20 0.3841799199581146\n",
      "21 0.3830755650997162\n",
      "22 0.38197705149650574\n",
      "23 0.3808840215206146\n",
      "24 0.37979671359062195\n",
      "24 0.37979671359062195\n",
      "25 0.3787148594856262\n",
      "26 0.3776385486125946\n",
      "27 0.3765679597854614\n",
      "28 0.37550270557403564\n",
      "29 0.3744429349899292\n",
      "29 0.3744429349899292\n",
      "30 0.3733886778354645\n",
      "31 0.37233975529670715\n",
      "32 0.371296226978302\n",
      "33 0.37025803327560425\n",
      "34 0.3692252039909363\n",
      "34 0.3692252039909363\n",
      "35 0.3681977093219757\n",
      "36 0.36717528104782104\n",
      "37 0.36615827679634094\n",
      "38 0.3651465177536011\n",
      "39 0.36413994431495667\n",
      "39 0.36413994431495667\n",
      "40 0.3631384074687958\n",
      "41 0.3621421158313751\n",
      "42 0.361150860786438\n",
      "43 0.36016470193862915\n",
      "44 0.35918352007865906\n",
      "44 0.35918352007865906\n",
      "45 0.3582075834274292\n",
      "46 0.3572365641593933\n",
      "47 0.3562704920768738\n",
      "48 0.355309396982193\n",
      "49 0.35435327887535095\n",
      "49 0.35435327887535095\n",
      "50 0.3534020185470581\n",
      "51 0.35245558619499207\n",
      "52 0.35151407122612\n",
      "53 0.35057738423347473\n",
      "54 0.3496454656124115\n",
      "54 0.3496454656124115\n",
      "55 0.3487183749675751\n",
      "56 0.34779593348503113\n",
      "57 0.34687837958335876\n",
      "58 0.3459654450416565\n",
      "59 0.3450571894645691\n",
      "59 0.3450571894645691\n",
      "60 0.34415367245674133\n",
      "61 0.3432546854019165\n",
      "62 0.34236040711402893\n",
      "63 0.3414706885814667\n",
      "64 0.3405854105949402\n",
      "64 0.3405854105949402\n",
      "65 0.33970487117767334\n",
      "66 0.3388287425041199\n",
      "67 0.33795711398124695\n",
      "68 0.3370898962020874\n",
      "69 0.33622726798057556\n",
      "69 0.33622726798057556\n",
      "70 0.33536896109580994\n",
      "71 0.3345150947570801\n",
      "72 0.33366551995277405\n",
      "73 0.33282041549682617\n",
      "74 0.3319796323776245\n",
      "74 0.3319796323776245\n",
      "75 0.3311431109905243\n",
      "76 0.33031097054481506\n",
      "77 0.3294830024242401\n",
      "78 0.32865941524505615\n",
      "79 0.3278398811817169\n",
      "79 0.3278398811817169\n",
      "80 0.3270246684551239\n",
      "81 0.3262135684490204\n",
      "82 0.32540664076805115\n",
      "83 0.3246038854122162\n",
      "84 0.3238052725791931\n",
      "84 0.3238052725791931\n",
      "85 0.3230106234550476\n",
      "86 0.32222023606300354\n",
      "87 0.3214336931705475\n",
      "88 0.32065141201019287\n",
      "89 0.31987297534942627\n",
      "89 0.31987297534942627\n",
      "90 0.31909865140914917\n",
      "91 0.31832823157310486\n",
      "92 0.3175618052482605\n",
      "93 0.31679919362068176\n",
      "94 0.316040575504303\n",
      "94 0.316040575504303\n",
      "95 0.31528589129447937\n",
      "96 0.31453508138656616\n",
      "97 0.3137880563735962\n",
      "98 0.31304487586021423\n",
      "99 0.3123054802417755\n",
      "99 0.3123054802417755\n"
     ]
    }
   ],
   "source": [
    "#start laarning\n",
    "for epoch in range(training_epoch):\n",
    "    \n",
    "    x_data = torch.from_numpy(x_train)\n",
    "    y_data = torch.from_numpy(y_train)\n",
    "    \n",
    "    x_data = Variable(x_data)\n",
    "    y_data = Variable(y_data)\n",
    "    \n",
    "    \n",
    "    y_pred = model(x_data)\n",
    "    loss = criterion(y_pred, y_data)\n",
    "    print(epoch, loss.data[0])\n",
    "    \n",
    "    optimizer.zero_grad()\n",
    "    loss.backward()\n",
    "    optimizer.step()\n",
    "    \n",
    "    if (epoch+1) % 5 == 0:\n",
    "        print(epoch, loss.data[0])\n",
    "    "
   ]
  },
  {
   "cell_type": "code",
   "execution_count": 46,
   "metadata": {},
   "outputs": [
    {
     "data": {
      "image/png": "[encoded data removed]",
      "text/plain": [
       "<matplotlib.figure.Figure at 0x25289ce80f0>"
      ]
     },
     "metadata": {},
     "output_type": "display_data"
    }
   ],
   "source": [
    "#show and save model\n",
    "predicted = model(Variable(torch.from_numpy(x_train)))\n",
    "predicted = predicted.data.numpy()\n",
    "plt.plot(x_train, y_train, 'ro', label='Original data')\n",
    "plt.plot(x_train, predicted, label='Fitted line')\n",
    "plt.legend()\n",
    "plt.show()\n",
    "\n",
    "# Save the model checkpoint\n",
    "torch.save(model.state_dict(), 'model.ckpt')"
   ]
  },
  {
   "cell_type": "code",
   "execution_count": null,
   "metadata": {},
   "outputs": [],
   "source": []
  }
 ],
 "metadata": {
  "kernelspec": {
   "display_name": "Python 3",
   "language": "python",
   "name": "python3"
  },
  "language_info": {
   "codemirror_mode": {
    "name": "ipython",
    "version": 3
   },
   "file_extension": ".py",
   "mimetype": "text/x-python",
   "name": "python",
   "nbconvert_exporter": "python",
   "pygments_lexer": "ipython3",
   "version": "3.6.4"
  }
 },
 "nbformat": 4,
 "nbformat_minor": 2
}
